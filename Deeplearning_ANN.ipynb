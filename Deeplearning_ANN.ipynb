{
  "nbformat": 4,
  "nbformat_minor": 0,
  "metadata": {
    "colab": {
      "name": "Deeplearning-ANN",
      "provenance": [],
      "collapsed_sections": [],
      "authorship_tag": "ABX9TyNwDhvBk5/hni/YhONeF5dO",
      "include_colab_link": true
    },
    "kernelspec": {
      "name": "python3",
      "display_name": "Python 3"
    },
    "accelerator": "GPU"
  },
  "cells": [
    {
      "cell_type": "markdown",
      "metadata": {
        "id": "view-in-github",
        "colab_type": "text"
      },
      "source": [
        "<a href=\"https://colab.research.google.com/github/Satyajit4698/ann/blob/master/Deeplearning_ANN.ipynb\" target=\"_parent\"><img src=\"https://colab.research.google.com/assets/colab-badge.svg\" alt=\"Open In Colab\"/></a>"
      ]
    },
    {
      "cell_type": "code",
      "metadata": {
        "id": "cETD8_BORCFZ",
        "colab_type": "code",
        "outputId": "7ca775ac-7a73-4cbf-f249-f67a1e1469d7",
        "colab": {
          "resources": {
            "http://localhost:8080/nbextensions/google.colab/files.js": {
              "data": "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",
              "ok": true,
              "headers": [
                [
                  "content-type",
                  "application/javascript"
                ]
              ],
              "status": 200,
              "status_text": ""
            }
          },
          "base_uri": "https://localhost:8080/",
          "height": 74
        }
      },
      "source": [
        "from google.colab import files\n",
        "upload=files.upload()"
      ],
      "execution_count": 0,
      "outputs": [
        {
          "output_type": "display_data",
          "data": {
            "text/html": [
              "\n",
              "     <input type=\"file\" id=\"files-79caa89e-3c3f-44d6-aefb-6bd19e0a34d4\" name=\"files[]\" multiple disabled />\n",
              "     <output id=\"result-79caa89e-3c3f-44d6-aefb-6bd19e0a34d4\">\n",
              "      Upload widget is only available when the cell has been executed in the\n",
              "      current browser session. Please rerun this cell to enable.\n",
              "      </output>\n",
              "      <script src=\"/nbextensions/google.colab/files.js\"></script> "
            ],
            "text/plain": [
              "<IPython.core.display.HTML object>"
            ]
          },
          "metadata": {
            "tags": []
          }
        },
        {
          "output_type": "stream",
          "text": [
            "Saving Churn_Modelling.csv to Churn_Modelling (2).csv\n"
          ],
          "name": "stdout"
        }
      ]
    },
    {
      "cell_type": "code",
      "metadata": {
        "id": "ykXG9a9x3OvT",
        "colab_type": "code",
        "outputId": "aac822b8-34ec-4c02-ff01-05039f0e5c7d",
        "colab": {
          "base_uri": "https://localhost:8080/",
          "height": 50
        }
      },
      "source": [
        "!ls"
      ],
      "execution_count": 0,
      "outputs": [
        {
          "output_type": "stream",
          "text": [
            "'Churn_Modelling (1).csv'   Churn_Modelling.csv\n",
            "'Churn_Modelling (2).csv'   sample_data\n"
          ],
          "name": "stdout"
        }
      ]
    },
    {
      "cell_type": "code",
      "metadata": {
        "id": "5Q239wUUebxh",
        "colab_type": "code",
        "colab": {}
      },
      "source": [
        "import numpy as np\n",
        "import pandas as pd\n",
        "import matplotlib.pyplot as plt\n"
      ],
      "execution_count": 0,
      "outputs": []
    },
    {
      "cell_type": "code",
      "metadata": {
        "id": "fXPeqYzlepcN",
        "colab_type": "code",
        "outputId": "ea502942-550a-4166-dfec-87a623919a93",
        "colab": {
          "base_uri": "https://localhost:8080/",
          "height": 195
        }
      },
      "source": [
        "data=pd.read_csv('Churn_Modelling.csv')\n",
        "data.head()"
      ],
      "execution_count": 0,
      "outputs": [
        {
          "output_type": "execute_result",
          "data": {
            "text/html": [
              "<div>\n",
              "<style scoped>\n",
              "    .dataframe tbody tr th:only-of-type {\n",
              "        vertical-align: middle;\n",
              "    }\n",
              "\n",
              "    .dataframe tbody tr th {\n",
              "        vertical-align: top;\n",
              "    }\n",
              "\n",
              "    .dataframe thead th {\n",
              "        text-align: right;\n",
              "    }\n",
              "</style>\n",
              "<table border=\"1\" class=\"dataframe\">\n",
              "  <thead>\n",
              "    <tr style=\"text-align: right;\">\n",
              "      <th></th>\n",
              "      <th>RowNumber</th>\n",
              "      <th>CustomerId</th>\n",
              "      <th>Surname</th>\n",
              "      <th>CreditScore</th>\n",
              "      <th>Geography</th>\n",
              "      <th>Gender</th>\n",
              "      <th>Age</th>\n",
              "      <th>Tenure</th>\n",
              "      <th>Balance</th>\n",
              "      <th>NumOfProducts</th>\n",
              "      <th>HasCrCard</th>\n",
              "      <th>IsActiveMember</th>\n",
              "      <th>EstimatedSalary</th>\n",
              "      <th>Exited</th>\n",
              "    </tr>\n",
              "  </thead>\n",
              "  <tbody>\n",
              "    <tr>\n",
              "      <th>0</th>\n",
              "      <td>1</td>\n",
              "      <td>15634602</td>\n",
              "      <td>Hargrave</td>\n",
              "      <td>619</td>\n",
              "      <td>France</td>\n",
              "      <td>Female</td>\n",
              "      <td>42</td>\n",
              "      <td>2</td>\n",
              "      <td>0.00</td>\n",
              "      <td>1</td>\n",
              "      <td>1</td>\n",
              "      <td>1</td>\n",
              "      <td>101348.88</td>\n",
              "      <td>1</td>\n",
              "    </tr>\n",
              "    <tr>\n",
              "      <th>1</th>\n",
              "      <td>2</td>\n",
              "      <td>15647311</td>\n",
              "      <td>Hill</td>\n",
              "      <td>608</td>\n",
              "      <td>Spain</td>\n",
              "      <td>Female</td>\n",
              "      <td>41</td>\n",
              "      <td>1</td>\n",
              "      <td>83807.86</td>\n",
              "      <td>1</td>\n",
              "      <td>0</td>\n",
              "      <td>1</td>\n",
              "      <td>112542.58</td>\n",
              "      <td>0</td>\n",
              "    </tr>\n",
              "    <tr>\n",
              "      <th>2</th>\n",
              "      <td>3</td>\n",
              "      <td>15619304</td>\n",
              "      <td>Onio</td>\n",
              "      <td>502</td>\n",
              "      <td>France</td>\n",
              "      <td>Female</td>\n",
              "      <td>42</td>\n",
              "      <td>8</td>\n",
              "      <td>159660.80</td>\n",
              "      <td>3</td>\n",
              "      <td>1</td>\n",
              "      <td>0</td>\n",
              "      <td>113931.57</td>\n",
              "      <td>1</td>\n",
              "    </tr>\n",
              "    <tr>\n",
              "      <th>3</th>\n",
              "      <td>4</td>\n",
              "      <td>15701354</td>\n",
              "      <td>Boni</td>\n",
              "      <td>699</td>\n",
              "      <td>France</td>\n",
              "      <td>Female</td>\n",
              "      <td>39</td>\n",
              "      <td>1</td>\n",
              "      <td>0.00</td>\n",
              "      <td>2</td>\n",
              "      <td>0</td>\n",
              "      <td>0</td>\n",
              "      <td>93826.63</td>\n",
              "      <td>0</td>\n",
              "    </tr>\n",
              "    <tr>\n",
              "      <th>4</th>\n",
              "      <td>5</td>\n",
              "      <td>15737888</td>\n",
              "      <td>Mitchell</td>\n",
              "      <td>850</td>\n",
              "      <td>Spain</td>\n",
              "      <td>Female</td>\n",
              "      <td>43</td>\n",
              "      <td>2</td>\n",
              "      <td>125510.82</td>\n",
              "      <td>1</td>\n",
              "      <td>1</td>\n",
              "      <td>1</td>\n",
              "      <td>79084.10</td>\n",
              "      <td>0</td>\n",
              "    </tr>\n",
              "  </tbody>\n",
              "</table>\n",
              "</div>"
            ],
            "text/plain": [
              "   RowNumber  CustomerId   Surname  ...  IsActiveMember EstimatedSalary Exited\n",
              "0          1    15634602  Hargrave  ...               1       101348.88      1\n",
              "1          2    15647311      Hill  ...               1       112542.58      0\n",
              "2          3    15619304      Onio  ...               0       113931.57      1\n",
              "3          4    15701354      Boni  ...               0        93826.63      0\n",
              "4          5    15737888  Mitchell  ...               1        79084.10      0\n",
              "\n",
              "[5 rows x 14 columns]"
            ]
          },
          "metadata": {
            "tags": []
          },
          "execution_count": 69
        }
      ]
    },
    {
      "cell_type": "code",
      "metadata": {
        "id": "PYD-X3oefDDt",
        "colab_type": "code",
        "outputId": "096f3a1b-bd69-4946-bc09-17f4972d8656",
        "colab": {
          "base_uri": "https://localhost:8080/",
          "height": 34
        }
      },
      "source": [
        "len(data)"
      ],
      "execution_count": 0,
      "outputs": [
        {
          "output_type": "execute_result",
          "data": {
            "text/plain": [
              "10000"
            ]
          },
          "metadata": {
            "tags": []
          },
          "execution_count": 70
        }
      ]
    },
    {
      "cell_type": "code",
      "metadata": {
        "id": "PQefAxjRl8-W",
        "colab_type": "code",
        "colab": {}
      },
      "source": [
        "x=data.iloc[:,3:13].values\n",
        "y=data.iloc[:,13].values"
      ],
      "execution_count": 0,
      "outputs": []
    },
    {
      "cell_type": "code",
      "metadata": {
        "id": "LoggbDGvmqT2",
        "colab_type": "code",
        "colab": {}
      },
      "source": [
        "from sklearn.preprocessing import LabelEncoder,OneHotEncoder\n",
        "from sklearn.compose import ColumnTransformer"
      ],
      "execution_count": 0,
      "outputs": []
    },
    {
      "cell_type": "code",
      "metadata": {
        "id": "QHMyOMZJnOou",
        "colab_type": "code",
        "colab": {}
      },
      "source": [
        "label_Encoder_x_1=LabelEncoder()\n",
        "x[:,1]=label_Encoder_x_1.fit_transform(x[:,1])\n",
        "label_Encoder_x_2=LabelEncoder()\n",
        "x[:,2]=label_Encoder_x_2.fit_transform(x[:,2])\n",
        "transformer=ColumnTransformer(transformers=[('Geography',OneHotEncoder(),[1])],remainder='passthrough')\n",
        "x=transformer.fit_transform(x.tolist())\n",
        "x=x.astype('float64')"
      ],
      "execution_count": 0,
      "outputs": []
    },
    {
      "cell_type": "code",
      "metadata": {
        "id": "zEjDapNtoRPy",
        "colab_type": "code",
        "colab": {}
      },
      "source": [
        "from sklearn.model_selection import train_test_split"
      ],
      "execution_count": 0,
      "outputs": []
    },
    {
      "cell_type": "code",
      "metadata": {
        "id": "Buv08fAtq253",
        "colab_type": "code",
        "colab": {}
      },
      "source": [
        "x_train, x_test, y_train, y_test = train_test_split(x,y, test_size=0.2, random_state=0)"
      ],
      "execution_count": 0,
      "outputs": []
    },
    {
      "cell_type": "code",
      "metadata": {
        "id": "fp0lfH3yrBRP",
        "colab_type": "code",
        "colab": {}
      },
      "source": [
        "from sklearn.preprocessing import StandardScaler"
      ],
      "execution_count": 0,
      "outputs": []
    },
    {
      "cell_type": "code",
      "metadata": {
        "id": "qCLCi4n7rQB5",
        "colab_type": "code",
        "colab": {}
      },
      "source": [
        "sc=StandardScaler()\n",
        "x_train=sc.fit_transform(x_train)\n",
        "x_test=sc.transform(x_test)"
      ],
      "execution_count": 0,
      "outputs": []
    },
    {
      "cell_type": "code",
      "metadata": {
        "id": "m-Bph1oosBv6",
        "colab_type": "code",
        "colab": {}
      },
      "source": [
        "import keras\n",
        "from keras.models import Sequential\n",
        "from keras.layers import Dense"
      ],
      "execution_count": 0,
      "outputs": []
    },
    {
      "cell_type": "code",
      "metadata": {
        "id": "aDul2MSgsZxb",
        "colab_type": "code",
        "outputId": "b0629df3-78df-42d7-92b4-c38363e16e70",
        "colab": {
          "base_uri": "https://localhost:8080/",
          "height": 138
        }
      },
      "source": [
        "cls=Sequential()\n",
        "cls.add(Dense(output_dim=6,init='uniform',activation='relu',input_dim=12))\n",
        "cls.add(Dense(output_dim=6,init='uniform',activation='relu'))\n",
        "cls.add(Dense(output_dim=1,init='uniform',activation='sigmoid'))\n",
        "cls.compile(optimizer='adam',loss='binary_crossentropy',metrics=['accuracy'])"
      ],
      "execution_count": 0,
      "outputs": [
        {
          "output_type": "stream",
          "text": [
            "/usr/local/lib/python3.6/dist-packages/ipykernel_launcher.py:2: UserWarning: Update your `Dense` call to the Keras 2 API: `Dense(activation=\"relu\", input_dim=12, units=6, kernel_initializer=\"uniform\")`\n",
            "  \n",
            "/usr/local/lib/python3.6/dist-packages/ipykernel_launcher.py:3: UserWarning: Update your `Dense` call to the Keras 2 API: `Dense(activation=\"relu\", units=6, kernel_initializer=\"uniform\")`\n",
            "  This is separate from the ipykernel package so we can avoid doing imports until\n",
            "/usr/local/lib/python3.6/dist-packages/ipykernel_launcher.py:4: UserWarning: Update your `Dense` call to the Keras 2 API: `Dense(activation=\"sigmoid\", units=1, kernel_initializer=\"uniform\")`\n",
            "  after removing the cwd from sys.path.\n"
          ],
          "name": "stderr"
        }
      ]
    },
    {
      "cell_type": "code",
      "metadata": {
        "id": "bLMQMy_g0Lf0",
        "colab_type": "code",
        "outputId": "7fc81591-5fa3-48b0-ca5e-e63774aa80d8",
        "colab": {
          "base_uri": "https://localhost:8080/",
          "height": 1000
        }
      },
      "source": [
        "cls.fit(x_train,y_train,batch_size=20,epochs=100)"
      ],
      "execution_count": 0,
      "outputs": [
        {
          "output_type": "stream",
          "text": [
            "WARNING:tensorflow:From /usr/local/lib/python3.6/dist-packages/keras/backend/tensorflow_backend.py:1033: The name tf.assign_add is deprecated. Please use tf.compat.v1.assign_add instead.\n",
            "\n",
            "WARNING:tensorflow:From /usr/local/lib/python3.6/dist-packages/keras/backend/tensorflow_backend.py:1020: The name tf.assign is deprecated. Please use tf.compat.v1.assign instead.\n",
            "\n",
            "WARNING:tensorflow:From /usr/local/lib/python3.6/dist-packages/keras/backend/tensorflow_backend.py:3005: The name tf.Session is deprecated. Please use tf.compat.v1.Session instead.\n",
            "\n",
            "Epoch 1/100\n",
            "WARNING:tensorflow:From /usr/local/lib/python3.6/dist-packages/keras/backend/tensorflow_backend.py:190: The name tf.get_default_session is deprecated. Please use tf.compat.v1.get_default_session instead.\n",
            "\n",
            "WARNING:tensorflow:From /usr/local/lib/python3.6/dist-packages/keras/backend/tensorflow_backend.py:197: The name tf.ConfigProto is deprecated. Please use tf.compat.v1.ConfigProto instead.\n",
            "\n",
            "WARNING:tensorflow:From /usr/local/lib/python3.6/dist-packages/keras/backend/tensorflow_backend.py:207: The name tf.global_variables is deprecated. Please use tf.compat.v1.global_variables instead.\n",
            "\n",
            "WARNING:tensorflow:From /usr/local/lib/python3.6/dist-packages/keras/backend/tensorflow_backend.py:216: The name tf.is_variable_initialized is deprecated. Please use tf.compat.v1.is_variable_initialized instead.\n",
            "\n",
            "WARNING:tensorflow:From /usr/local/lib/python3.6/dist-packages/keras/backend/tensorflow_backend.py:223: The name tf.variables_initializer is deprecated. Please use tf.compat.v1.variables_initializer instead.\n",
            "\n",
            "8000/8000 [==============================] - 10s 1ms/step - loss: 0.5299 - acc: 0.7951\n",
            "Epoch 2/100\n",
            "8000/8000 [==============================] - 1s 159us/step - loss: 0.4350 - acc: 0.7960\n",
            "Epoch 3/100\n",
            "8000/8000 [==============================] - 1s 177us/step - loss: 0.4304 - acc: 0.7960\n",
            "Epoch 4/100\n",
            "8000/8000 [==============================] - 1s 162us/step - loss: 0.4281 - acc: 0.7960\n",
            "Epoch 5/100\n",
            "8000/8000 [==============================] - 1s 161us/step - loss: 0.4250 - acc: 0.7960\n",
            "Epoch 6/100\n",
            "8000/8000 [==============================] - 1s 162us/step - loss: 0.4220 - acc: 0.8006\n",
            "Epoch 7/100\n",
            "8000/8000 [==============================] - 1s 164us/step - loss: 0.4199 - acc: 0.8203\n",
            "Epoch 8/100\n",
            "8000/8000 [==============================] - 1s 168us/step - loss: 0.4179 - acc: 0.8220\n",
            "Epoch 9/100\n",
            "8000/8000 [==============================] - 1s 158us/step - loss: 0.4160 - acc: 0.8255\n",
            "Epoch 10/100\n",
            "8000/8000 [==============================] - 1s 155us/step - loss: 0.4148 - acc: 0.8271\n",
            "Epoch 11/100\n",
            "8000/8000 [==============================] - 1s 167us/step - loss: 0.4138 - acc: 0.8300\n",
            "Epoch 12/100\n",
            "8000/8000 [==============================] - 1s 166us/step - loss: 0.4128 - acc: 0.8300\n",
            "Epoch 13/100\n",
            "8000/8000 [==============================] - 1s 172us/step - loss: 0.4113 - acc: 0.8310\n",
            "Epoch 14/100\n",
            "8000/8000 [==============================] - 1s 160us/step - loss: 0.4110 - acc: 0.8328\n",
            "Epoch 15/100\n",
            "8000/8000 [==============================] - 1s 167us/step - loss: 0.4103 - acc: 0.8319\n",
            "Epoch 16/100\n",
            "8000/8000 [==============================] - 1s 161us/step - loss: 0.4096 - acc: 0.8327\n",
            "Epoch 17/100\n",
            "8000/8000 [==============================] - 1s 164us/step - loss: 0.4083 - acc: 0.8343\n",
            "Epoch 18/100\n",
            "8000/8000 [==============================] - 1s 162us/step - loss: 0.4087 - acc: 0.8333\n",
            "Epoch 19/100\n",
            "8000/8000 [==============================] - 1s 166us/step - loss: 0.4080 - acc: 0.8335\n",
            "Epoch 20/100\n",
            "8000/8000 [==============================] - 1s 158us/step - loss: 0.4074 - acc: 0.8348\n",
            "Epoch 21/100\n",
            "8000/8000 [==============================] - 1s 168us/step - loss: 0.4071 - acc: 0.8341\n",
            "Epoch 22/100\n",
            "8000/8000 [==============================] - 1s 161us/step - loss: 0.4069 - acc: 0.8348\n",
            "Epoch 23/100\n",
            "8000/8000 [==============================] - 1s 159us/step - loss: 0.4064 - acc: 0.8352\n",
            "Epoch 24/100\n",
            "8000/8000 [==============================] - 1s 165us/step - loss: 0.4060 - acc: 0.8348\n",
            "Epoch 25/100\n",
            "8000/8000 [==============================] - 1s 154us/step - loss: 0.4057 - acc: 0.8348\n",
            "Epoch 26/100\n",
            "8000/8000 [==============================] - 1s 173us/step - loss: 0.4050 - acc: 0.8345\n",
            "Epoch 27/100\n",
            "8000/8000 [==============================] - 1s 153us/step - loss: 0.4049 - acc: 0.8344\n",
            "Epoch 28/100\n",
            "8000/8000 [==============================] - 1s 157us/step - loss: 0.4045 - acc: 0.8341\n",
            "Epoch 29/100\n",
            "8000/8000 [==============================] - 1s 162us/step - loss: 0.4045 - acc: 0.8356\n",
            "Epoch 30/100\n",
            "8000/8000 [==============================] - 1s 169us/step - loss: 0.4040 - acc: 0.8345\n",
            "Epoch 31/100\n",
            "8000/8000 [==============================] - 1s 163us/step - loss: 0.4036 - acc: 0.8346\n",
            "Epoch 32/100\n",
            "8000/8000 [==============================] - 1s 159us/step - loss: 0.4035 - acc: 0.8345\n",
            "Epoch 33/100\n",
            "8000/8000 [==============================] - 1s 163us/step - loss: 0.4034 - acc: 0.8349\n",
            "Epoch 34/100\n",
            "8000/8000 [==============================] - 1s 162us/step - loss: 0.4033 - acc: 0.8344\n",
            "Epoch 35/100\n",
            "8000/8000 [==============================] - 1s 161us/step - loss: 0.4027 - acc: 0.8353\n",
            "Epoch 36/100\n",
            "8000/8000 [==============================] - 1s 167us/step - loss: 0.4023 - acc: 0.8351\n",
            "Epoch 37/100\n",
            "8000/8000 [==============================] - 1s 169us/step - loss: 0.4026 - acc: 0.8339\n",
            "Epoch 38/100\n",
            "8000/8000 [==============================] - 1s 168us/step - loss: 0.4026 - acc: 0.8354\n",
            "Epoch 39/100\n",
            "8000/8000 [==============================] - 1s 155us/step - loss: 0.4022 - acc: 0.8340\n",
            "Epoch 40/100\n",
            "8000/8000 [==============================] - 1s 161us/step - loss: 0.4015 - acc: 0.8351\n",
            "Epoch 41/100\n",
            "8000/8000 [==============================] - 1s 161us/step - loss: 0.4020 - acc: 0.8343\n",
            "Epoch 42/100\n",
            "8000/8000 [==============================] - 1s 155us/step - loss: 0.4020 - acc: 0.8350\n",
            "Epoch 43/100\n",
            "8000/8000 [==============================] - 1s 158us/step - loss: 0.4017 - acc: 0.8340\n",
            "Epoch 44/100\n",
            "8000/8000 [==============================] - 1s 159us/step - loss: 0.4016 - acc: 0.8341\n",
            "Epoch 45/100\n",
            "8000/8000 [==============================] - 1s 159us/step - loss: 0.4012 - acc: 0.8353\n",
            "Epoch 46/100\n",
            "8000/8000 [==============================] - 1s 155us/step - loss: 0.4012 - acc: 0.8359\n",
            "Epoch 47/100\n",
            "8000/8000 [==============================] - 1s 161us/step - loss: 0.4016 - acc: 0.8346\n",
            "Epoch 48/100\n",
            "8000/8000 [==============================] - 1s 159us/step - loss: 0.4014 - acc: 0.8354\n",
            "Epoch 49/100\n",
            "8000/8000 [==============================] - 1s 170us/step - loss: 0.4011 - acc: 0.8363\n",
            "Epoch 50/100\n",
            "8000/8000 [==============================] - 1s 160us/step - loss: 0.4013 - acc: 0.8349\n",
            "Epoch 51/100\n",
            "8000/8000 [==============================] - 1s 159us/step - loss: 0.4007 - acc: 0.8348\n",
            "Epoch 52/100\n",
            "8000/8000 [==============================] - 1s 159us/step - loss: 0.4013 - acc: 0.8353\n",
            "Epoch 53/100\n",
            "8000/8000 [==============================] - 1s 158us/step - loss: 0.4006 - acc: 0.8353\n",
            "Epoch 54/100\n",
            "8000/8000 [==============================] - 1s 159us/step - loss: 0.4009 - acc: 0.8349\n",
            "Epoch 55/100\n",
            "8000/8000 [==============================] - 1s 155us/step - loss: 0.4010 - acc: 0.8341\n",
            "Epoch 56/100\n",
            "8000/8000 [==============================] - 1s 156us/step - loss: 0.4009 - acc: 0.8344\n",
            "Epoch 57/100\n",
            "8000/8000 [==============================] - 1s 161us/step - loss: 0.4007 - acc: 0.8338\n",
            "Epoch 58/100\n",
            "8000/8000 [==============================] - 1s 158us/step - loss: 0.4009 - acc: 0.8346\n",
            "Epoch 59/100\n",
            "8000/8000 [==============================] - 1s 164us/step - loss: 0.4006 - acc: 0.8339\n",
            "Epoch 60/100\n",
            "8000/8000 [==============================] - 1s 160us/step - loss: 0.4008 - acc: 0.8355\n",
            "Epoch 61/100\n",
            "8000/8000 [==============================] - 1s 168us/step - loss: 0.4008 - acc: 0.8344\n",
            "Epoch 62/100\n",
            "8000/8000 [==============================] - 1s 164us/step - loss: 0.4008 - acc: 0.8348\n",
            "Epoch 63/100\n",
            "8000/8000 [==============================] - 1s 159us/step - loss: 0.4006 - acc: 0.8351\n",
            "Epoch 64/100\n",
            "8000/8000 [==============================] - 1s 161us/step - loss: 0.4005 - acc: 0.8345\n",
            "Epoch 65/100\n",
            "8000/8000 [==============================] - 1s 160us/step - loss: 0.4006 - acc: 0.8350\n",
            "Epoch 66/100\n",
            "8000/8000 [==============================] - 1s 160us/step - loss: 0.4006 - acc: 0.8344\n",
            "Epoch 67/100\n",
            "8000/8000 [==============================] - 1s 156us/step - loss: 0.4003 - acc: 0.8340\n",
            "Epoch 68/100\n",
            "8000/8000 [==============================] - 1s 164us/step - loss: 0.4006 - acc: 0.8344\n",
            "Epoch 69/100\n",
            "8000/8000 [==============================] - 1s 163us/step - loss: 0.4006 - acc: 0.8348\n",
            "Epoch 70/100\n",
            "8000/8000 [==============================] - 1s 171us/step - loss: 0.4005 - acc: 0.8355\n",
            "Epoch 71/100\n",
            "8000/8000 [==============================] - 1s 178us/step - loss: 0.4003 - acc: 0.8343\n",
            "Epoch 72/100\n",
            "8000/8000 [==============================] - 1s 167us/step - loss: 0.3998 - acc: 0.8356\n",
            "Epoch 73/100\n",
            "8000/8000 [==============================] - 1s 162us/step - loss: 0.4005 - acc: 0.8340\n",
            "Epoch 74/100\n",
            "8000/8000 [==============================] - 1s 159us/step - loss: 0.4002 - acc: 0.8345\n",
            "Epoch 75/100\n",
            "8000/8000 [==============================] - 1s 156us/step - loss: 0.4004 - acc: 0.8343\n",
            "Epoch 76/100\n",
            "8000/8000 [==============================] - 1s 165us/step - loss: 0.4003 - acc: 0.8345\n",
            "Epoch 77/100\n",
            "8000/8000 [==============================] - 1s 158us/step - loss: 0.4005 - acc: 0.8348\n",
            "Epoch 78/100\n",
            "8000/8000 [==============================] - 1s 153us/step - loss: 0.4002 - acc: 0.8345\n",
            "Epoch 79/100\n",
            "8000/8000 [==============================] - 1s 156us/step - loss: 0.4002 - acc: 0.8349\n",
            "Epoch 80/100\n",
            "8000/8000 [==============================] - 1s 156us/step - loss: 0.4002 - acc: 0.8348\n",
            "Epoch 81/100\n",
            "8000/8000 [==============================] - 1s 160us/step - loss: 0.4004 - acc: 0.8351\n",
            "Epoch 82/100\n",
            "8000/8000 [==============================] - 1s 164us/step - loss: 0.4003 - acc: 0.8350\n",
            "Epoch 83/100\n",
            "8000/8000 [==============================] - 1s 166us/step - loss: 0.4001 - acc: 0.8351\n",
            "Epoch 84/100\n",
            "8000/8000 [==============================] - 1s 159us/step - loss: 0.4003 - acc: 0.8355\n",
            "Epoch 85/100\n",
            "8000/8000 [==============================] - 1s 158us/step - loss: 0.4000 - acc: 0.8348\n",
            "Epoch 86/100\n",
            "8000/8000 [==============================] - 1s 158us/step - loss: 0.3998 - acc: 0.8355\n",
            "Epoch 87/100\n",
            "8000/8000 [==============================] - 1s 164us/step - loss: 0.3999 - acc: 0.8335\n",
            "Epoch 88/100\n",
            "8000/8000 [==============================] - 1s 160us/step - loss: 0.4002 - acc: 0.8350\n",
            "Epoch 89/100\n",
            "8000/8000 [==============================] - 1s 154us/step - loss: 0.4004 - acc: 0.8356\n",
            "Epoch 90/100\n",
            "8000/8000 [==============================] - 1s 160us/step - loss: 0.3998 - acc: 0.8341\n",
            "Epoch 91/100\n",
            "8000/8000 [==============================] - 1s 161us/step - loss: 0.3997 - acc: 0.8351\n",
            "Epoch 92/100\n",
            "8000/8000 [==============================] - 1s 158us/step - loss: 0.4000 - acc: 0.8348\n",
            "Epoch 93/100\n",
            "8000/8000 [==============================] - 1s 159us/step - loss: 0.4002 - acc: 0.8351\n",
            "Epoch 94/100\n",
            "8000/8000 [==============================] - 1s 155us/step - loss: 0.4000 - acc: 0.8338\n",
            "Epoch 95/100\n",
            "8000/8000 [==============================] - 1s 158us/step - loss: 0.4000 - acc: 0.8360\n",
            "Epoch 96/100\n",
            "8000/8000 [==============================] - 1s 166us/step - loss: 0.3998 - acc: 0.8334\n",
            "Epoch 97/100\n",
            "8000/8000 [==============================] - 1s 159us/step - loss: 0.3999 - acc: 0.8341\n",
            "Epoch 98/100\n",
            "8000/8000 [==============================] - 1s 154us/step - loss: 0.3999 - acc: 0.8343\n",
            "Epoch 99/100\n",
            "8000/8000 [==============================] - 1s 165us/step - loss: 0.4000 - acc: 0.8340\n",
            "Epoch 100/100\n",
            "8000/8000 [==============================] - 1s 161us/step - loss: 0.3999 - acc: 0.8335\n"
          ],
          "name": "stdout"
        },
        {
          "output_type": "execute_result",
          "data": {
            "text/plain": [
              "<keras.callbacks.History at 0x7f75d9efc6d8>"
            ]
          },
          "metadata": {
            "tags": []
          },
          "execution_count": 82
        }
      ]
    },
    {
      "cell_type": "code",
      "metadata": {
        "id": "niUqgyU01jy3",
        "colab_type": "code",
        "outputId": "3cf2550f-a269-47d7-95bb-c8aec9b9f0fb",
        "colab": {
          "base_uri": "https://localhost:8080/",
          "height": 134
        }
      },
      "source": [
        "y_pred=cls.predict(x_test)\n",
        "y_pred"
      ],
      "execution_count": 0,
      "outputs": [
        {
          "output_type": "execute_result",
          "data": {
            "text/plain": [
              "array([[0.22706333],\n",
              "       [0.3235489 ],\n",
              "       [0.16932428],\n",
              "       ...,\n",
              "       [0.20248419],\n",
              "       [0.1637153 ],\n",
              "       [0.10603154]], dtype=float32)"
            ]
          },
          "metadata": {
            "tags": []
          },
          "execution_count": 83
        }
      ]
    },
    {
      "cell_type": "code",
      "metadata": {
        "id": "7JbECRqo8v3X",
        "colab_type": "code",
        "outputId": "1bad4d29-40bb-461b-9e70-b37cf78b7e1c",
        "colab": {
          "base_uri": "https://localhost:8080/",
          "height": 134
        }
      },
      "source": [
        "y_pred=(y_pred>0.5)\n",
        "y_pred"
      ],
      "execution_count": 0,
      "outputs": [
        {
          "output_type": "execute_result",
          "data": {
            "text/plain": [
              "array([[False],\n",
              "       [False],\n",
              "       [False],\n",
              "       ...,\n",
              "       [False],\n",
              "       [False],\n",
              "       [False]])"
            ]
          },
          "metadata": {
            "tags": []
          },
          "execution_count": 84
        }
      ]
    },
    {
      "cell_type": "code",
      "metadata": {
        "id": "NFdtaaJu8804",
        "colab_type": "code",
        "outputId": "dbbbf049-54c2-4798-dfd3-b455c8f66423",
        "colab": {
          "base_uri": "https://localhost:8080/",
          "height": 34
        }
      },
      "source": [
        "len(y_pred)"
      ],
      "execution_count": 0,
      "outputs": [
        {
          "output_type": "execute_result",
          "data": {
            "text/plain": [
              "2000"
            ]
          },
          "metadata": {
            "tags": []
          },
          "execution_count": 85
        }
      ]
    },
    {
      "cell_type": "code",
      "metadata": {
        "id": "NJqngpW09Hr0",
        "colab_type": "code",
        "colab": {}
      },
      "source": [
        "from sklearn.metrics import confusion_matrix"
      ],
      "execution_count": 0,
      "outputs": []
    },
    {
      "cell_type": "code",
      "metadata": {
        "id": "9LwuL-Lo9SuW",
        "colab_type": "code",
        "outputId": "cdf95d31-734b-42bc-9a3d-b277c0de3c51",
        "colab": {
          "base_uri": "https://localhost:8080/",
          "height": 50
        }
      },
      "source": [
        "cn=confusion_matrix(y_test,y_pred)\n",
        "cn"
      ],
      "execution_count": 0,
      "outputs": [
        {
          "output_type": "execute_result",
          "data": {
            "text/plain": [
              "array([[1541,   54],\n",
              "       [ 265,  140]])"
            ]
          },
          "metadata": {
            "tags": []
          },
          "execution_count": 87
        }
      ]
    },
    {
      "cell_type": "code",
      "metadata": {
        "id": "_tbcFer09iep",
        "colab_type": "code",
        "colab": {}
      },
      "source": [
        "from sklearn.metrics import accuracy_score\n"
      ],
      "execution_count": 0,
      "outputs": []
    },
    {
      "cell_type": "code",
      "metadata": {
        "id": "72IbbfsQ940w",
        "colab_type": "code",
        "outputId": "cf822274-f149-49a9-d959-a8a9d493eafa",
        "colab": {
          "base_uri": "https://localhost:8080/",
          "height": 34
        }
      },
      "source": [
        "ac=accuracy_score(y_test,y_pred)\n",
        "ac"
      ],
      "execution_count": 0,
      "outputs": [
        {
          "output_type": "execute_result",
          "data": {
            "text/plain": [
              "0.8405"
            ]
          },
          "metadata": {
            "tags": []
          },
          "execution_count": 89
        }
      ]
    },
    {
      "cell_type": "code",
      "metadata": {
        "id": "SxHOM4US-BBT",
        "colab_type": "code",
        "colab": {}
      },
      "source": [
        ""
      ],
      "execution_count": 0,
      "outputs": []
    }
  ]
}